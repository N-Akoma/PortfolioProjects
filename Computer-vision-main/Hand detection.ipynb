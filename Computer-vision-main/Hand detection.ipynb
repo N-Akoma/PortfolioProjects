{
 "cells": [
  {
   "cell_type": "code",
   "execution_count": 1,
   "id": "df557ac2",
   "metadata": {},
   "outputs": [],
   "source": [
    "# !pip install mediapipe"
   ]
  },
  {
   "cell_type": "code",
   "execution_count": 2,
   "id": "fddac069",
   "metadata": {},
   "outputs": [],
   "source": [
    "# step 1 importing neccessary library\n",
    "import cv2\n",
    "import mediapipe as mp"
   ]
  },
  {
   "cell_type": "code",
   "execution_count": 3,
   "id": "b9f7f7bc",
   "metadata": {},
   "outputs": [],
   "source": [
    "# step 2: identify your camara\n",
    "cap = cv2.VideoCapture(0)"
   ]
  },
  {
   "cell_type": "code",
   "execution_count": 4,
   "id": "9be5aab0",
   "metadata": {},
   "outputs": [],
   "source": [
    "# leveraging the mediapipe library for hand detection\n",
    "mpHands = mp.solutions.hands\n",
    "hands = mpHands.Hands()\n",
    "mpDraw = mp.solutions.drawing_utils"
   ]
  },
  {
   "cell_type": "code",
   "execution_count": 5,
   "id": "c9d8da06",
   "metadata": {},
   "outputs": [],
   "source": [
    "# step 3: swtich the webcam\n",
    "while True:\n",
    "    _, img = cap.read()\n",
    "    \n",
    "     #convert img from BG to RGB\n",
    "    imgRGB = cv2.cvtColor(img, cv2.COLOR_BGR2RGB)\n",
    "    \n",
    "    # Apply mediapipe\n",
    "    results = hands.process(imgRGB)\n",
    "    \n",
    "#     print(results.multi_hand_landmarks)\n",
    "    if results.multi_hand_landmarks:\n",
    "        for handlm in results.multi_hand_landmarks:\n",
    "            for id, lm in enumerate(handlm.landmark):\n",
    "                #print(id,lm)\n",
    "                mpDraw.draw_landmarks(img, handlm, mpHands.HAND_CONNECTIONS)\n",
    "    \n",
    "#     cv2.putText(img, 'My 10Alytics Hand Detection Program',(10,70),cv2.FONT_HERSHEY_SIMPLEX, 1, (255,255,255))\n",
    "    cv2.imshow('10Alytics Hand detection class', img)\n",
    "    if cv2.waitKey(1) & 0xFF == ord('q'):\n",
    "        break\n",
    "\n",
    "# release all capture once processing is done\n",
    "cap.release()\n",
    "cv2.destroyAllWindows()"
   ]
  },
  {
   "cell_type": "code",
   "execution_count": null,
   "id": "0f718f10",
   "metadata": {},
   "outputs": [],
   "source": []
  },
  {
   "cell_type": "code",
   "execution_count": null,
   "id": "904825b3",
   "metadata": {},
   "outputs": [],
   "source": []
  }
 ],
 "metadata": {
  "kernelspec": {
   "display_name": "Python 3 (ipykernel)",
   "language": "python",
   "name": "python3"
  },
  "language_info": {
   "codemirror_mode": {
    "name": "ipython",
    "version": 3
   },
   "file_extension": ".py",
   "mimetype": "text/x-python",
   "name": "python",
   "nbconvert_exporter": "python",
   "pygments_lexer": "ipython3",
   "version": "3.10.9"
  }
 },
 "nbformat": 4,
 "nbformat_minor": 5
}
