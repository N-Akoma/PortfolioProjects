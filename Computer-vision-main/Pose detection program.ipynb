{
 "cells": [
  {
   "cell_type": "code",
   "execution_count": 1,
   "id": "2e9ed766",
   "metadata": {},
   "outputs": [],
   "source": [
    "# Importing all necessary libraries\n",
    "import cv2  # OpenCV for computer vision tasks\n",
    "import mediapipe as mp  # MediaPipe for pose detection"
   ]
  },
  {
   "cell_type": "code",
   "execution_count": 2,
   "id": "b30eca9e",
   "metadata": {},
   "outputs": [],
   "source": [
    "# Initialize the camera capture object using the default camera (0)\n",
    "cap = cv2.VideoCapture(0)"
   ]
  },
  {
   "cell_type": "code",
   "execution_count": 3,
   "id": "2a2090c0",
   "metadata": {},
   "outputs": [],
   "source": [
    "# Import the Pose model from mediapipe and initialize it\n",
    "mpPose = mp.solutions.pose\n",
    "pose = mpPose.Pose()\n",
    "\n",
    "# Import drawing utilities from mediapipe\n",
    "mpDraw = mp.solutions.drawing_utils"
   ]
  },
  {
   "cell_type": "code",
   "execution_count": 4,
   "id": "757108ff",
   "metadata": {},
   "outputs": [],
   "source": [
    "# Start an infinite loop to continuously capture and process video frames\n",
    "while True:\n",
    "    # Read a frame from the camera\n",
    "    _, img = cap.read()\n",
    "    \n",
    "    # Convert the BGR image to RGB color format\n",
    "    imgRGB = cv2.cvtColor(img, cv2.COLOR_BGR2RGB)\n",
    "    \n",
    "    # Process the RGB image to detect pose landmarks\n",
    "    results = pose.process(imgRGB)\n",
    "    \n",
    "    # Check if pose landmarks are detected\n",
    "    if results.pose_landmarks:\n",
    "        # Draw the pose landmarks and connections on the frame\n",
    "        mpDraw.draw_landmarks(img, results.pose_landmarks, mpPose.POSE_CONNECTIONS)\n",
    "    \n",
    "    # Add a text label to the frame\n",
    "    cv2.putText(img, '10Alytics Pose Detection Program', (10, 50), cv2.FONT_HERSHEY_PLAIN, 2, (255, 255, 255), 2)\n",
    "    \n",
    "    # Display the frame with the drawn landmarks\n",
    "    cv2.imshow('10Alytics Pose Detection Program', img)\n",
    "    \n",
    "    # Check for the 'q' key press to exit the loop\n",
    "    if cv2.waitKey(1) & 0xff == ord('q'):\n",
    "        break\n",
    "\n",
    "# Release the camera and close all OpenCV windows\n",
    "cap.release()\n",
    "cv2.destroyAllWindows()"
   ]
  },
  {
   "cell_type": "code",
   "execution_count": null,
   "id": "54691528",
   "metadata": {},
   "outputs": [],
   "source": []
  }
 ],
 "metadata": {
  "kernelspec": {
   "display_name": "Python 3 (ipykernel)",
   "language": "python",
   "name": "python3"
  },
  "language_info": {
   "codemirror_mode": {
    "name": "ipython",
    "version": 3
   },
   "file_extension": ".py",
   "mimetype": "text/x-python",
   "name": "python",
   "nbconvert_exporter": "python",
   "pygments_lexer": "ipython3",
   "version": "3.10.9"
  }
 },
 "nbformat": 4,
 "nbformat_minor": 5
}
