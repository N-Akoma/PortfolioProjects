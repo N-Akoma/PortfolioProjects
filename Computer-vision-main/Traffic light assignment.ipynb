{
 "cells": [
  {
   "cell_type": "code",
   "execution_count": 170,
   "id": "fac35e82",
   "metadata": {},
   "outputs": [],
   "source": [
    "import numpy as np\n",
    "import matplotlib.pyplot as plt\n",
    "from PIL import Image\n",
    "import cv2"
   ]
  },
  {
   "cell_type": "code",
   "execution_count": 171,
   "id": "b4e4d7e1",
   "metadata": {},
   "outputs": [],
   "source": [
    "# creating a traffic light\n",
    "cav3 = np.zeros((1000,1000,3))"
   ]
  },
  {
   "cell_type": "code",
   "execution_count": 172,
   "id": "d90cba1c",
   "metadata": {},
   "outputs": [
    {
     "name": "stderr",
     "output_type": "stream",
     "text": [
      "Clipping input data to the valid range for imshow with RGB data ([0..1] for floats or [0..255] for integers).\n"
     ]
    },
    {
     "data": {
      "text/plain": [
       "<matplotlib.image.AxesImage at 0x25c7edef3a0>"
      ]
     },
     "execution_count": 172,
     "metadata": {},
     "output_type": "execute_result"
    },
    {
     "data": {
      "image/png": "[encoded data removed]",
      "text/plain": [
       "<Figure size 640x480 with 1 Axes>"
      ]
     },
     "metadata": {},
     "output_type": "display_data"
    }
   ],
   "source": [
    "# Draw white rectangles with thickness 2\n",
    "cv2.rectangle(cav3, pt1=(410, 200), pt2=(590, 450), color=(255, 255, 255), thickness=2)\n",
    "cv2.rectangle(cav3, pt1=(470, 450), pt2=(530, 650), color=(255, 255, 255), thickness=-1)\n",
    "\n",
    "# Draw filled red circle and outlined circle\n",
    "cv2.circle(cav3, center=(500, 250), radius=30, color=(255, 0, 0), thickness=-1)  # Filled red circle\n",
    "cv2.circle(cav3, center=(500, 250), radius=30, color=(255, 255, 255), thickness=3)  # Outlined circle\n",
    "\n",
    "# Draw filled yellow circle and outlined circle\n",
    "cv2.circle(cav3, center=(500, 325), radius=30, color=(255, 255, 0), thickness=-1)  # Filled yellow circle\n",
    "cv2.circle(cav3, center=(500, 325), radius=30, color=(255, 255, 255), thickness=3)  # Outlined circle\n",
    "\n",
    "# Draw filled green circle and outlined circle\n",
    "cv2.circle(cav3, center=(500, 400), radius=30, color=(0, 255, 0), thickness=-1)  # Filled green circle\n",
    "cv2.circle(cav3, center=(500, 400), radius=30, color=(255, 255, 255), thickness=3)  # Outlined circle\n",
    "\n",
    "# Display the image using Matplotlib\n",
    "plt.imshow(cav3)"
   ]
  },
  {
   "cell_type": "code",
   "execution_count": null,
   "id": "393a4c03",
   "metadata": {},
   "outputs": [],
   "source": []
  },
  {
   "cell_type": "code",
   "execution_count": null,
   "id": "327a9e40",
   "metadata": {},
   "outputs": [],
   "source": []
  }
 ],
 "metadata": {
  "kernelspec": {
   "display_name": "Python 3 (ipykernel)",
   "language": "python",
   "name": "python3"
  },
  "language_info": {
   "codemirror_mode": {
    "name": "ipython",
    "version": 3
   },
   "file_extension": ".py",
   "mimetype": "text/x-python",
   "name": "python",
   "nbconvert_exporter": "python",
   "pygments_lexer": "ipython3",
   "version": "3.10.9"
  }
 },
 "nbformat": 4,
 "nbformat_minor": 5
}
